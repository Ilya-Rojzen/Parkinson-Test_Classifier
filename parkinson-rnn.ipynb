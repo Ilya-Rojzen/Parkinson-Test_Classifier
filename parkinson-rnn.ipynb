{
 "cells": [
  {
   "cell_type": "markdown",
   "id": "726ae104-33d5-4cf3-b337-7ca358a43545",
   "metadata": {},
   "source": [
    "# Построение классификатора болезни Паркинсона по информации о нарисованных спиралях"
   ]
  },
  {
   "cell_type": "markdown",
   "id": "4f90636e-d0be-4511-89f4-0d18403607e9",
   "metadata": {},
   "source": [
    "### Все нужные импорты"
   ]
  },
  {
   "cell_type": "code",
   "execution_count": 335,
   "id": "aaa7a17a-fd03-42f8-b85d-8304d28cc41d",
   "metadata": {},
   "outputs": [],
   "source": [
    "import numpy as np\n",
    "import pandas as pd\n",
    "import os\n",
    "import random \n",
    "from hashlib import md5\n",
    "from sklearn.preprocessing import LabelEncoder, OneHotEncoder\n",
    "import torch\n",
    "import torch.nn as nn\n",
    "import torch.optim as optim\n",
    "import torch.nn.functional as F\n",
    "from torch.utils.data import Dataset, DataLoader, ConcatDataset\n",
    "from sklearn.metrics import classification_report, roc_auc_score, confusion_matrix\n",
    "import matplotlib.pyplot as plt\n",
    "import matplotlib.image as mpimg\n",
    "import seaborn as sns"
   ]
  },
  {
   "cell_type": "markdown",
   "id": "7329e8ae-7fcb-4dc1-b808-760d17cc4da5",
   "metadata": {},
   "source": [
    "## Задание 1. Подготовка и анализ данных"
   ]
  },
  {
   "cell_type": "code",
   "execution_count": 338,
   "id": "fd118372-9678-4404-9a82-a151e1db6493",
   "metadata": {
    "jupyter": {
     "source_hidden": true
    }
   },
   "outputs": [
    {
     "data": {
      "image/png": "[encoded data removed]",
      "text/plain": [
       "<Figure size 640x480 with 2 Axes>"
      ]
     },
     "metadata": {},
     "output_type": "display_data"
    }
   ],
   "source": [
    "# Выводим пару рисунков\n",
    "\n",
    "img1 = mpimg.imread(\"parkinson_dataset/hw_drawings/Dynamic Spiral Test/d1.png\")\n",
    "img2 = mpimg.imread(\"parkinson_dataset/hw_drawings/Static Spiral Test/s1.png\")\n",
    "# Создаем фигуры и оси для отображения изображений\n",
    "fig, (ax1, ax2) = plt.subplots(1, 2)\n",
    "# Отображаем первое изображение\n",
    "ax1.imshow(img1)\n",
    "ax1.axis('off')  # Убираем оси\n",
    "\n",
    "# Отображаем второе изображение\n",
    "ax2.imshow(img2)\n",
    "ax2.axis('off')  # Убираем оси\n",
    "\n",
    "# Показываем график\n",
    "plt.show()"
   ]
  },
  {
   "cell_type": "code",
   "execution_count": 334,
   "id": "86298fd6-24b8-4a98-acbc-4ce18da71d50",
   "metadata": {
    "jupyter": {
     "source_hidden": true
    }
   },
   "outputs": [],
   "source": [
    "# Необходимые для обработки данных функции\n",
    "\n",
    "# Класс для преобразования датафрейма в Датасет из последовательностей и разметки данных\n",
    "class SequenceDataset(Dataset):\n",
    "    def __init__(self, data, labels=None, seq_len=200):\n",
    "        self.seq_len = seq_len\n",
    "        self.data = data\n",
    "        self.labels = labels\n",
    "\n",
    "    def __len__(self):\n",
    "        return len(self.data) // self.seq_len\n",
    "\n",
    "    def __getitem__(self, idx):\n",
    "        start_idx = idx * self.seq_len\n",
    "        end_idx = start_idx + self.seq_len\n",
    "        x = self.data[start_idx:end_idx]\n",
    "        \n",
    "        if self.labels is not None:\n",
    "            y = self.labels[idx]\n",
    "            return torch.tensor(x, dtype=torch.float), torch.tensor(y, dtype=torch.float)\n",
    "        else:\n",
    "            return torch.tensor(x, dtype=torch.float)\n",
    "\n",
    "# Функция для преобразования датафрейма в Датасет из последовательностей временных шагов\n",
    "def prepare_data(dataframe, seq_len=200):\n",
    "    features = dataframe[['X', 'Y', 'Z', 'Pressure', 'GripAngle']].values\n",
    "    labels = dataframe['Label'].values  # Предполагаю, что Label - это целевые значения\n",
    "    \n",
    "    dataset = SequenceDataset(features, labels, seq_len)\n",
    "    return dataset\n",
    "\n",
    "# Функция для загрузки данных из одного файла – на выходе имеем Датафрэйм\n",
    "def load_data(patient_id, folder):\n",
    "    filename = f\"{folder}/{patient_id}.txt\"\n",
    "    df = pd.read_csv(filename, sep=';', names=column_names)\n",
    "    \n",
    "    # Добавляем метку \"label\" (0 - здоровый, 1 - больной)\n",
    "    label = 0 if folder == path_to_control else 1\n",
    "    df['Label'] = label\n",
    "    df.drop('Timestamp', axis=1, inplace=True)\n",
    "    df.drop('Test ID', axis=1, inplace=True)\n",
    "    return df\n",
    "\n",
    "# # One-hot encoding для Test ID\n",
    "# def encode_to_list(value):\n",
    "#     if value == 0:\n",
    "#         return [1, 0, 0]\n",
    "#     elif value == 1:\n",
    "#         return [0, 1, 0]\n",
    "#     else:\n",
    "#         return [0, 0, 1]"
   ]
  },
  {
   "cell_type": "code",
   "execution_count": 319,
   "id": "e5f1c5d7-aa68-449e-bc52-547db6eb913d",
   "metadata": {
    "jupyter": {
     "source_hidden": true
    },
    "scrolled": true
   },
   "outputs": [],
   "source": [
    "# Вытягиваем данные из файлов\n",
    "# Пути до папок и названия столбцов в датасетах \n",
    "path_to_control = 'parkinson_dataset/hw_dataset/control'\n",
    "path_to_parkinson = 'parkinson_dataset/hw_dataset/parkinson'\n",
    "column_names = ['X', 'Y', 'Z', 'Pressure', 'GripAngle', 'Timestamp', 'Test ID'] \n",
    "\n",
    "\n",
    "\n",
    "# Собираем номера пациентов (напр файл C_0001.txt - C_0001)\n",
    "control_patients = []\n",
    "control_filenames = os.listdir(path_to_control)\n",
    "for filename in control_filenames:\n",
    "    patient = filename.split('.txt')[0]\n",
    "    control_patients.append(patient)\n",
    "    \n",
    "parkinson_patients = []\n",
    "parkinson_filenames = os.listdir(path_to_parkinson)\n",
    "for filename in parkinson_filenames:\n",
    "    patient = filename.split('.txt')[0]\n",
    "    parkinson_patients.append(patient)\n",
    "\n",
    "# Загружаем все данные пациентов - получается список датафреймов по каждому пациенту\n",
    "data_control = []\n",
    "for patient in control_patients:\n",
    "    dataset = prepare_data(load_data(patient, path_to_control))\n",
    "    data_control.append(dataset)\n",
    "    \n",
    "\n",
    "data_parkinson = []\n",
    "for patient in parkinson_patients:\n",
    "    dataset = prepare_data(load_data(patient, path_to_parkinson))\n",
    "    data_parkinson.append(dataset)\n",
    "\n",
    "# for df in data_parkinson:\n",
    "#     df['Test ID'] = df['Test ID'].apply(encode_to_list)\n",
    "# for df in data_control:\n",
    "#     df['Test ID'] = df['Test ID'].apply(encode_to_list)\n",
    "\n",
    "# На выходе у нас получается список датасетов, в каждом из котором данные разделены на последовательности по 50 временных шагов"
   ]
  },
  {
   "cell_type": "markdown",
   "id": "0a498551-c3e8-4ac0-a877-b97f51808399",
   "metadata": {},
   "source": [
    "### Сразу разделяем на тестовые и тренировочные выборки \n"
   ]
  },
  {
   "cell_type": "code",
   "execution_count": 320,
   "id": "77769755-7504-4698-bcc0-3bf2f6e0bafe",
   "metadata": {
    "jupyter": {
     "source_hidden": true
    }
   },
   "outputs": [
    {
     "name": "stdout",
     "output_type": "stream",
     "text": [
      "Пациентов с паркинсонизмом в тренировочном сете: 20\n",
      "Здоровых пациентов в тренировочном сете: 12\n",
      "Пациентов с паркинсонизмом в тестовом сете: 5\n",
      "Здоровых пациентов в тестовом сете: 3\n",
      "------------------------------------------------------------\n",
      "Списки не пересекаются – все в кайфе\n",
      "------------------------------------------------------------\n",
      "Тренировочный датасет содержит 1441 образцов\n",
      "Тестовый датасет содержит 155 образцов\n"
     ]
    }
   ],
   "source": [
    "# Пробуем вариант, при котором в тренировочной выборке будут варианты с максимальной длиной, а в тестовой - с минимальной\n",
    "\n",
    "def get_min_len(list_of_datasets, repetitions):      # Функция сортирует и находит датасеты с минимальны количеством данных. \n",
    "    test_set = []                                    # Они отправляются в тестовую выборку, чтобы было больше данных для тренировки\n",
    "    list_of_datasets.sort(key=len)\n",
    "    for i in range(repetitions):\n",
    "        test_set.append(list_of_datasets[0])\n",
    "        del list_of_datasets[0]\n",
    "    return test_set  \n",
    "\n",
    "data_parkinson_test = get_min_len(data_parkinson, 5)\n",
    "data_control_test = get_min_len(data_control, 3)\n",
    "\n",
    "# Проверяем, что разделили 80/20\n",
    "print(f'Пациентов с паркинсонизмом в тренировочном сете: {len(data_parkinson)}')\n",
    "print(f'Здоровых пациентов в тренировочном сете: {len(data_control)}')\n",
    "print(f'Пациентов с паркинсонизмом в тестовом сете: {len(data_parkinson_test)}')\n",
    "print(f'Здоровых пациентов в тестовом сете: {len(data_control_test)}')\n",
    "print('---'*20)\n",
    "\n",
    "# Проверка на пересечение\n",
    "intersection_exists = any(dataset in data_parkinson_test for dataset in data_parkinson) or any(dataset in data_control_test for dataset in data_control)\n",
    "\n",
    "if intersection_exists:\n",
    "    print(\"!!!! Данные списки пересекаются(\")\n",
    "else:\n",
    "    print(\"Списки не пересекаются – все в кайфе\")\n",
    "print('---'*20)\n",
    "\n",
    "# Объединение всех данных для тренировочной и тестовой выборки\n",
    "all_data_train = data_control + data_parkinson\n",
    "all_data_test = data_control_test + data_parkinson_test\n",
    "\n",
    "# Создание объединенного набора данных\n",
    "train_dataset = ConcatDataset(all_data_train)\n",
    "test_dataset = ConcatDataset(all_data_test)\n",
    "\n",
    "print(f\"Тренировочный датасет содержит {len(train_dataset)} образцов\")\n",
    "print(f\"Тестовый датасет содержит {len(test_dataset)} образцов\")"
   ]
  },
  {
   "cell_type": "markdown",
   "id": "484bebc8-e440-4c9a-b2fe-5bb87b2dc2f2",
   "metadata": {},
   "source": [
    "## Задание 2. Создание и обучение моделей нейронной сети"
   ]
  },
  {
   "cell_type": "code",
   "execution_count": 321,
   "id": "c3e4562d-6e9e-4daf-934c-33597eac626c",
   "metadata": {
    "jupyter": {
     "source_hidden": true
    }
   },
   "outputs": [],
   "source": [
    "# LSTM модель (Long Short-Term Memory)\n",
    "\n",
    "class LSTMModel(nn.Module):\n",
    "    def __init__(self, input_dim, hidden_dim, output_dim, num_layers=6, dropout=0.8):\n",
    "        super(LSTMModel, self).__init__()\n",
    "        self.input_dim = input_dim\n",
    "        self.hidden_dim = hidden_dim\n",
    "        self.output_dim = output_dim\n",
    "        self.num_layers = num_layers\n",
    "        \n",
    "        self.lstm = nn.LSTM(input_dim, hidden_dim, num_layers=num_layers, batch_first=True)\n",
    "        self.fc = nn.Linear(hidden_dim, output_dim)\n",
    "\n",
    "    def forward(self, x):\n",
    "        _, (h_n, _) = self.lstm(x)\n",
    "        out = self.fc(h_n[-1])\n",
    "        return out\n",
    "        \n",
    "# Для использования модели скопируйте строки ниже и вставьте в ячейке 'Обучение модели'\n",
    "\n",
    "model = LSTMModel(input_dim=5, hidden_dim=256, output_dim=2, num_layers=6, dropout=0.8)\n",
    "criterion = nn.CrossEntropyLoss()\n",
    "optimizer = optim.Adam(model.parameters(), lr=0.01)"
   ]
  },
  {
   "cell_type": "code",
   "execution_count": 25,
   "id": "bb33b0d2-a169-4ff4-b374-ccdf4d1d3842",
   "metadata": {
    "jupyter": {
     "source_hidden": true
    }
   },
   "outputs": [],
   "source": [
    "# RNN простая\n",
    "\n",
    "class RNNModel(nn.Module):\n",
    "    def __init__(self, input_size, hidden_size, num_layers=2):\n",
    "        super(RNNModel, self).__init__()\n",
    "        self.hidden_size = hidden_size\n",
    "        self.num_layers = num_layers\n",
    "        self.rnn = nn.RNN(input_size, hidden_size, num_layers, batch_first=True)\n",
    "        self.fc = nn.Linear(hidden_size, 2)  # Выходной слой для бинарной классификации\n",
    "        self.sigmoid = nn.Sigmoid()\n",
    "\n",
    "    def forward(self, x):\n",
    "        # x имеет форму (batch_size, seq_len, input_size)\n",
    "        h0 = torch.zeros(self.num_layers, x.size(0), self.hidden_size).to(device=x.device)\n",
    "        \n",
    "        # Пропускаем последовательность через RNN\n",
    "        out, _ = self.rnn(x, h0)\n",
    "        \n",
    "        # Берем последний временной шаг\n",
    "        out = out[:, -1, :]\n",
    "        \n",
    "        # Пропускаем через линейный слой и сигмоиду\n",
    "        out = self.fc(out)\n",
    "        \n",
    "        return out\n",
    "        \n",
    "# Для использования модели скопируйте строки ниже и вставьте в ячейке 'Обучение модели'\n",
    "\n",
    "model = RNNModel(input_size=6, hidden_size=64)\n",
    "optimizer = torch.optim.Adam(model.parameters(), lr=0.001)\n",
    "criterion = nn.CrossEntropyLoss()"
   ]
  },
  {
   "cell_type": "code",
   "execution_count": 26,
   "id": "76c1e25d-1c3c-47dd-a6ab-c95fbba67cf7",
   "metadata": {
    "jupyter": {
     "source_hidden": true
    }
   },
   "outputs": [],
   "source": [
    "# GRU модель (Gated Recurrent Unit)\n",
    "\n",
    "class GRUModel(nn.Module):\n",
    "    def __init__(self, input_size, hidden_size, num_layers=1):\n",
    "        super(GRUModel, self).__init__()\n",
    "        self.hidden_size = hidden_size\n",
    "        self.num_layers = num_layers\n",
    "        self.gru = nn.GRU(input_size, hidden_size, num_layers, batch_first=True)\n",
    "        self.fc = nn.Linear(hidden_size, 2)  # Выходной слой для бинарной классификации\n",
    "        self.sigmoid = nn.Sigmoid()\n",
    "\n",
    "    def forward(self, x):\n",
    "        # x имеет форму (batch_size, seq_len, input_size)\n",
    "        h0 = torch.zeros(self.num_layers, x.size(0), self.hidden_size).to(device=x.device)\n",
    "        \n",
    "        # Пропускаем последовательность через GRU\n",
    "        out, _ = self.gru(x, h0)\n",
    "        \n",
    "        # Берем последний временной шаг\n",
    "        out = out[:, -1, :]\n",
    "        \n",
    "        # Пропускаем через линейный слой и сигмоиду\n",
    "        out = self.fc(out)\n",
    "        \n",
    "        return out\n",
    "\n",
    "# Для использования модели скопируйте строки ниже и вставьте в ячейке 'Обучение модели'\n",
    "\n",
    "model = GRUModel(input_size=6, hidden_size=64)\n",
    "optimizer = torch.optim.Adam(model.parameters(), lr=0.001)\n",
    "criterion = nn.CrossEntropyLoss()\n"
   ]
  },
  {
   "cell_type": "code",
   "execution_count": 54,
   "id": "ba8b72a7-e4eb-457b-8d53-8e38e95068e0",
   "metadata": {
    "jupyter": {
     "source_hidden": true
    }
   },
   "outputs": [],
   "source": [
    "# BiLSTM – двунаправленная LSTM\n",
    "class BiLSTMModel(nn.Module):\n",
    "    def __init__(self, input_dim, hidden_dim, output_dim, dropout=0.1, num_layers=2):\n",
    "        super().__init__()\n",
    "        self.input_dim = input_dim\n",
    "        self.hidden_dim = hidden_dim\n",
    "        self.output_dim = output_dim\n",
    "        self.dropout = dropout\n",
    "        self.num_layers = num_layers\n",
    "        \n",
    "        self.bilstm = nn.LSTM(\n",
    "            input_size=input_dim,\n",
    "            hidden_size=hidden_dim,\n",
    "            num_layers=num_layers,\n",
    "            bidirectional=True,\n",
    "            batch_first=True,\n",
    "            dropout=self.dropout if num_layers > 1 else 0\n",
    "        )\n",
    "        \n",
    "        self.linear = nn.Linear(hidden_dim * 2, output_dim)\n",
    "        self.dropout_layer = nn.Dropout(dropout)\n",
    "\n",
    "    def forward(self, x):\n",
    "        lstm_out, _ = self.bilstm(x)\n",
    "        last_hidden_state = lstm_out[:, -1, :]\n",
    "        output = self.dropout_layer(last_hidden_state)\n",
    "        logits = self.linear(output)\n",
    "        return logits\n",
    "\n",
    "# Для использования модели скопируйте строки ниже и вставьте в ячейке 'Обучение модели'\n",
    "\n",
    "model = BiLSTMModel(input_dim=5, hidden_dim=256, output_dim=1, dropout=0.1, num_layers=2)\n",
    "criterion = nn.BCEWithLogitsLoss(pos_weight=torch.tensor([1.5]))\n",
    "optimizer = optim.Adam(model.parameters(), lr=0.0001)"
   ]
  },
  {
   "cell_type": "markdown",
   "id": "23941ae6-1005-48aa-918b-fafc997a64de",
   "metadata": {},
   "source": [
    "### Обучение модели\n",
    "В ходе множества проделанных мною попыток (2 недели жизни убиты на этот проект) самую лучшую точность показала LSTM с данными параметрами"
   ]
  },
  {
   "cell_type": "code",
   "execution_count": 322,
   "id": "b96189d8-edd9-4cc2-9541-2911f00fcdf0",
   "metadata": {},
   "outputs": [
    {
     "name": "stdout",
     "output_type": "stream",
     "text": [
      "Тotal batches: 288\n",
      "Epoch 1: Accuracy: 0.52153, Loss: 0.6827\n",
      "Epoch 2: Accuracy: 0.63750, Loss: 0.6093\n",
      "Epoch 3: Accuracy: 0.69722, Loss: 0.5759\n",
      "Epoch 4: Accuracy: 0.74653, Loss: 0.5657\n",
      "Epoch 5: Accuracy: 0.76875, Loss: 0.5602\n",
      "Epoch 6: Accuracy: 0.77778, Loss: 0.5550\n",
      "Epoch 7: Accuracy: 0.77986, Loss: 0.5482\n",
      "Epoch 8: Accuracy: 0.77708, Loss: 0.5398\n",
      "Epoch 9: Accuracy: 0.78125, Loss: 0.5328\n",
      "Epoch 10: Accuracy: 0.78611, Loss: 0.5283\n"
     ]
    }
   ],
   "source": [
    "# Создаем загрузчик данных\n",
    "dataloader = DataLoader(train_dataset, batch_size=5, shuffle=True, drop_last=True)\n",
    "print(f\"Тotal batches: {len(dataloader)}\")\n",
    "\n",
    "# Сюда вставляйте параметры модели\n",
    "\n",
    "model = LSTMModel(input_dim=5, hidden_dim=256, output_dim=2, num_layers=6, dropout=0.8)\n",
    "criterion = nn.CrossEntropyLoss()\n",
    "optimizer = optim.Adam(model.parameters(), lr=0.00001)\n",
    "\n",
    "for epoch in range(10):\n",
    "            correct = 0          # Для вычисления\n",
    "            samples = 0          # потерь и точности \n",
    "            running_loss = 0.0   # в ходе обучения\n",
    "            model.train()     # режим обучения\n",
    "            for i, (x_batch, y_batch) in enumerate(dataloader):\n",
    "                optimizer.zero_grad()  # Обнуляем оптимайзер\n",
    "                outputs = model(x_batch) # Получаем выход модели\n",
    "                probabilities = F.sigmoid(outputs)  # Применение сигмоидной активации для получения вероятностей\n",
    "                loss = criterion(probabilities, y_batch.long())\n",
    "                loss.backward()\n",
    "                optimizer.step()\n",
    "                running_loss += loss.item()\n",
    "                predictions = probabilities.argmax(dim=1).unsqueeze(dim=1) # Получаем предсказания модели\n",
    "                targets = y_batch.unsqueeze(dim=1)  # Приводим целевые значения к формату предсказаний модели\n",
    "                correct += (predictions == targets).sum().item() # Считаем количество верно предсказанных\n",
    "                samples += x_batch.size(0)                       # значений и общее число данных\n",
    "            avg_loss = running_loss / len(dataloader)\n",
    "            accuracy = correct / samples\n",
    "            total_correct += correct\n",
    "            total_samples += samples\n",
    "            print(f'Epoch {epoch+1}: Accuracy: {correct/samples:.5f}, Loss: {avg_loss:.4f}')\n",
    "print('Обучение прошло успешно! \\nМодель сохранена в файл trained_model.pt')\n",
    "        \n",
    "# Сохраняем модель после окончания обучения\n",
    "torch.save(model.state_dict(), 'trained_model.pt')"
   ]
  },
  {
   "cell_type": "markdown",
   "id": "c635f31b-adc9-4e12-8085-f4853227dbb0",
   "metadata": {},
   "source": [
    "## Задание 3. Оценка качества модели"
   ]
  },
  {
   "cell_type": "code",
   "execution_count": 333,
   "id": "1661e3a4-d225-43d4-ad30-1d855f206bf3",
   "metadata": {},
   "outputs": [
    {
     "name": "stdout",
     "output_type": "stream",
     "text": [
      "Test Accuracy: 0.9354838709677419\n",
      "ROC-AUC Score: 0.9777815468113975\n"
     ]
    }
   ],
   "source": [
    "# Создание тестового загрузчика\n",
    "test_dataloader = DataLoader(test_dataset, batch_size=5)\n",
    "\n",
    "# Загрузка модели\n",
    "loaded_model = LSTMModel(input_dim=5, hidden_dim=256, output_dim=2, num_layers=6, dropout=0.8)\n",
    "loaded_model.load_state_dict(torch.load('trained_model.pt'))\n",
    "\n",
    "# Вычисление метрик\n",
    "total = 0\n",
    "correct = 0\n",
    "loaded_model.eval()  # Устанавливаем модель в режим оценки\n",
    "with torch.no_grad():\n",
    "    y_true_list = []   # Список истинных значений\n",
    "    y_pred_scores = []  # Список вероятностей предсказанного класса\n",
    "    y_pred_classes = []  # Список предсказанных классов\n",
    "    \n",
    "    for test_x_batch, test_y_batch in test_dataloader:\n",
    "        test_outputs = loaded_model(test_x_batch)\n",
    "        test_probabilities = torch.sigmoid(test_outputs)  # Вероятности\n",
    "        probabilities_class_1 = test_probabilities[:, 1]  # Берем вероятности для класса 1 (если задача бинарной классификации)\n",
    "        predicted_classes = test_probabilities.argmax(dim=1).unsqueeze(dim=1)  # Предсказываем класс через argmax\n",
    "        target = test_y_batch.unsqueeze(dim=1)\n",
    "        total += test_x_batch.size(0)\n",
    "        correct += (predicted_classes == target).sum().item()\n",
    "        y_true_list.extend(target.numpy())  # Сохраняем истинные значения\n",
    "        y_pred_scores.extend(probabilities_class_1.detach().numpy())  # Сохраняем вероятности\n",
    "        y_pred_classes.extend(predicted_classes.numpy())  # Сохраняем предсказанные классы\n",
    "# Преобразуем списки в numpy массивы\n",
    "y_true = np.array(y_true_list)\n",
    "y_pred_scores = np.array(y_pred_scores)\n",
    "y_pred_classes = np.array(y_pred_classes)\n",
    "\n",
    "# Рассчитываем AUC-ROC\n",
    "roc_auc = roc_auc_score(y_true, y_pred_scores)\n",
    "\n",
    "# Построение Confusion Matrix\n",
    "conf_matrix = confusion_matrix(y_true, y_pred_classes)\n",
    "\n",
    "# Выводим результаты\n",
    "print(\"Test Accuracy:\", correct / total)\n",
    "print(\"ROC-AUC Score:\", roc_auc)"
   ]
  },
  {
   "cell_type": "code",
   "execution_count": 330,
   "id": "20a9823f-84f2-4c6e-96b2-28e6f8f1cfb2",
   "metadata": {
    "jupyter": {
     "source_hidden": true
    }
   },
   "outputs": [],
   "source": [
    "# Функция для построеная Confusion Matrix\n",
    "def plot_confusion_matrix(cm, classes, normalize=False, title='Confusion matrix', cmap=plt.cm.Blues):\n",
    "    if normalize:\n",
    "        cm = cm.astype('float') / cm.sum(axis=1)[:, np.newaxis]\n",
    "        print(\"Normalized confusion matrix\")\n",
    "    else:\n",
    "        print('Confusion matrix, without normalization')\n",
    "\n",
    "    fig, ax = plt.subplots(figsize=(7, 7))\n",
    "    im = ax.imshow(cm, interpolation='nearest', cmap=cmap)\n",
    "    ax.figure.colorbar(im, ax=ax)\n",
    "    # We want to show all ticks...\n",
    "    ax.set(xticks=np.arange(cm.shape[1]),\n",
    "           yticks=np.arange(cm.shape[0]),\n",
    "           xticklabels=classes, yticklabels=classes,\n",
    "           ylabel='True label',\n",
    "           xlabel='Predicted label')\n",
    "\n",
    "    # Rotate the tick labels and set their alignment.\n",
    "    plt.setp(ax.get_xticklabels(), rotation=45, ha=\"right\",\n",
    "             rotation_mode=\"anchor\")\n",
    "\n",
    "    # Loop over data dimensions and create text annotations.\n",
    "    fmt = '.2f' if normalize else 'd'\n",
    "    thresh = cm.max() / 2.\n",
    "    for i in range(cm.shape[0]):\n",
    "        for j in range(cm.shape[1]):\n",
    "            ax.text(j, i, format(cm[i, j], fmt),\n",
    "                    ha=\"center\", va=\"center\",\n",
    "                    color=\"white\" if cm[i, j] > thresh else \"black\")\n",
    "    fig.tight_layout()\n",
    "    plt.title(title)\n",
    "    plt.show()"
   ]
  },
  {
   "cell_type": "code",
   "execution_count": 332,
   "id": "bd7a6965-c556-4974-b4d0-cda2dced87b2",
   "metadata": {},
   "outputs": [
    {
     "name": "stdout",
     "output_type": "stream",
     "text": [
      "Normalized confusion matrix\n"
     ]
    },
    {
     "data": {
      "image/png": "[encoded data removed]",
      "text/plain": [
       "<Figure size 700x700 with 2 Axes>"
      ]
     },
     "metadata": {},
     "output_type": "display_data"
    }
   ],
   "source": [
    "classes = ['Control', 'Parkinson']\n",
    "\n",
    "plot_confusion_matrix(conf_matrix, classes, normalize=True, title='Normalized Confusion Matrix')"
   ]
  }
 ],
 "metadata": {
  "kernelspec": {
   "display_name": "Python 3 (ipykernel)",
   "language": "python",
   "name": "python3"
  },
  "language_info": {
   "codemirror_mode": {
    "name": "ipython",
    "version": 3
   },
   "file_extension": ".py",
   "mimetype": "text/x-python",
   "name": "python",
   "nbconvert_exporter": "python",
   "pygments_lexer": "ipython3",
   "version": "3.12.3"
  }
 },
 "nbformat": 4,
 "nbformat_minor": 5
}
